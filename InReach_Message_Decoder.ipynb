{
 "cells": [
  {
   "cell_type": "markdown",
   "metadata": {},
   "source": [
    "# InReach Message GRIB Decoder\n",
    "",
    "This notebook decodes a base64/zlib-compressed GRIB file sent via InReach message. It reconstructs the file from message parts and saves it locally."
   ]
  },
  {
   "cell_type": "code",
   "execution_count": 1,
   "id": "imports",
   "metadata": {},
   "outputs": [],
   "source": [
    "# Imports\n",
    "import base64\n",
    "import zlib\n",
    "from datetime import datetime\n",
    "from pathlib import Path"
   ]
  },
  {
   "cell_type": "markdown",
   "metadata": {},
   "source": [
    "## 1. Define the GRIB Message Decoder"
   ]
  },
  {
   "cell_type": "code",
   "execution_count": 2,
   "id": "decode-function",
   "metadata": {},
   "outputs": [],
   "source": [
    "def decode_grib_file(encoded_data: str, output_path: str) -> str:\n",
    "    \"\"\"\n",
    "    Decodes a base64-encoded, zlib-compressed GRIB message sent via InReach and saves it to disk.\n",
    "\n",
    "    Args:\n",
    "        encoded_data (str): The full text of the received message.\n",
    "        output_path (str): Path where the decoded GRIB file will be saved.\n",
    "\n",
    "    Returns:\n",
    "        str: Path to the saved GRIB file.\n",
    "    \"\"\"\n",
    "    try:\n",
    "        # Split lines and extract base64 payloads (assume every 3rd line is payload)\n",
    "        lines = encoded_data.strip().split(\"\\n\")\n",
    "        payload = ''.join([lines[i] for i in range(len(lines)) if i % 3 == 1])\n",
    "        if not payload:\n",
    "            raise ValueError(\"No payload data found. Check message format.\")\n",
    "        # Base64 decode\n",
    "        zipped_data = base64.b64decode(payload)\n",
    "        # Zlib decompress\n",
    "        grib_binary = zlib.decompress(zipped_data)\n",
    "        # Save to output\n",
    "        with open(output_path, 'wb') as f:\n",
    "            f.write(grib_binary)\n",
    "        print(f\"Decoded GRIB file saved to: {output_path} ({len(grib_binary)} bytes)\")\n",
    "        return output_path\n",
    "    except Exception as e:\n",
    "        print(f\"Error decoding GRIB file: {e}\")\n",
    "        raise"
   ]
  },
  {
   "cell_type": "markdown",
   "metadata": {},
   "source": [
    "## 2. Paste the Received InReach Messages Below"
   ]
  },
  {
   "cell_type": "code",
   "execution_count": 3,
   "id": "input-message",
   "metadata": {},
   "outputs": [],
   "source": [
    "# Paste the full multi-part InReach message below\n",
    "TEXT_RECEIVED = \"\"\"\n",
    "0\n",
    "eJxzD/J0YmDoYWRgkGFKmvW/QTGTgUucQ5yBgZFBhYuBgUEUxG\n",
    "0\n",
    "1\n",
    "JQYPjPwMDBwM4Qe6BR0qGBoWdBw6MJ7BfYLzgwgIELBwPDofjwHA4jBp\n",
    "1\n",
    "2\n",
    "+ApPjQcHvrxIDEvKaaeNewjPyyKTNi0vIyUksnTefm4RVT80ivlFV\n",
    "2\n",
    "3\n",
    "UU7Vxjo/R09E31ZBRcmcwBwJ33G4xINEtZRuyODJMGFTSi8tTI5w\n",
    "3\n",
    "4\n",
    "dQrJq+6dFBWckl7ZPmGiYWVbbWtEy0UBLzdA1sazGxsHKUNXQMdLH\n",
    "4\n",
    "5\n",
    "zljfwMhIHatblMgPl4Jtkzg8ShZMbOhqLw1v6qkqbOuoT0quyE6\n",
    "5\n",
    "6\n",
    "IKe1MSMqLd/VNLDDQM3WxNrN1N7e2NNOU13XwcbJw0JNk0CTkFlLD\n",
    "6\n",
    "7\n",
    "JVW/isNMs6U1t7CgODAmq6A0sdwnOi48NT48JFMzLj3UN8In2Nw5\n",
    "7\n",
    "8\n",
    "wM3C1N7Czy/Y00WS38I3OtrBWIGPAewWADeQjU4=\n",
    "8\n",
    "\"\"\""
   ]
  },
  {
   "cell_type": "markdown",
   "metadata": {},
   "source": [
    "## 3. Decode and Save the File"
   ]
  },
  {
   "cell_type": "code",
   "execution_count": 4,
   "id": "decode-call",
   "metadata": {},
   "outputs": [],
   "source": [
    "# Output path with timestamp\n",
    "current_time = datetime.now().strftime('%Y%m%d_%H%M%S')\n",
    "output_path = Path(f'./decoded_grib_{current_time}.grb')\n",
    "\n",
    "# Decode and save the file\n",
    "grib_file_path = decode_grib_file(TEXT_RECEIVED, str(output_path))"
   ]
  },
  {
   "cell_type": "markdown",
   "metadata": {},
   "source": [
    "## 4. (Optional) Preview the Start of the Decoded File"
   ]
  },
  {
   "cell_type": "code",
   "execution_count": 5,
   "id": "preview-output",
   "metadata": {},
   "outputs": [],
   "source": [
    "# Show the first 32 bytes (hex) to confirm decoding worked\n",
    "with open(grib_file_path, 'rb') as f:\n",
    "    data = f.read(32)\n",
    "print(\"First 32 bytes:\", data.hex(' '))"
   ]
  }
 ],
 "metadata": {
  "kernelspec": {
   "display_name": "Python 3 (ipykernel)",
   "language": "python",
   "name": "python3"
  },
  "language_info": {
   "codemirror_mode": {\n    "name": "ipython",\n    "version": 3\n   },\n   "file_extension": ".py",\n   "mimetype": "text/x-python",\n   "name": "python",\n   "nbconvert_exporter": "python",\n   "pygments_lexer": "ipython3",\n   "version": "3.9.7"\n  }\n },\n "nbformat": 4,\n "nbformat_minor": 5\n}\n
}
